{
 "cells": [
  {
   "cell_type": "markdown",
   "id": "484db0a4",
   "metadata": {},
   "source": [
    "https://www.nhs.uk/live-well/healthy-weight/bmi-calculator/#:~:text=The%20BMI%20calculation%20divides%20an,dividing%2070%20by%202.99%20%3D%2023.41"
   ]
  },
  {
   "cell_type": "code",
   "execution_count": 8,
   "id": "3beef365",
   "metadata": {},
   "outputs": [
    {
     "name": "stdout",
     "output_type": "stream",
     "text": [
      "Enter you name: Shreyan\n",
      "Enter your weight in kgs: 66\n",
      "Enter your height in metres: 1.75\n",
      "21.551020408163264\n",
      "Shreyan, you are normal weight. You can certainly add more kg.\n"
     ]
    }
   ],
   "source": [
    "name = input(\"Enter you name: \")\n",
    "\n",
    "weight = float(input(\"Enter your weight in kgs: \"))\n",
    "\n",
    "height = float(input(\"Enter your height in metres: \"))\n",
    "\n",
    "BMI = (weight) / (height * height)\n",
    "\n",
    "print(BMI)\n",
    "\n",
    "if BMI>0:\n",
    "    if(BMI<18.5):\n",
    "        print(name +\", you are underwight. You need to start bulking NOW!\")\n",
    "    elif (BMI<=24.9):\n",
    "        print(name +\", you are normal weight. You can certainly add more weight.\")\n",
    "    elif (BMI<29.9):\n",
    "        print(name +\", you are overweight. Best to check your muscle to fat ratio.\")\n",
    "    else:\n",
    "        print(name +\", you are obese. Like I said, check your muscle to fat ratio.\")\n",
    "else:\n",
    "    print(\"Enter valid input\")"
   ]
  },
  {
   "cell_type": "code",
   "execution_count": null,
   "id": "1b0323f9",
   "metadata": {},
   "outputs": [],
   "source": []
  },
  {
   "cell_type": "code",
   "execution_count": null,
   "id": "33d111ac",
   "metadata": {},
   "outputs": [],
   "source": [
    "#BMI = (weight kg) / (height in metres x height in metres)"
   ]
  },
  {
   "cell_type": "code",
   "execution_count": null,
   "id": "7cc328b1",
   "metadata": {},
   "outputs": [],
   "source": [
    "Under 18.5   Underweight  Minimal\n",
    "18.5 - 24.9  Healthy      Minimal\n",
    "25 - 29.9    Overweight   Increased\n",
    "30 and over  Obese        High"
   ]
  },
  {
   "cell_type": "code",
   "execution_count": 7,
   "id": "7615c15f",
   "metadata": {},
   "outputs": [
    {
     "name": "stdout",
     "output_type": "stream",
     "text": [
      "Shreyan, you are normal weight.\n"
     ]
    }
   ],
   "source": [
    "if BMI>0:\n",
    "    if(BMI<18.5):\n",
    "        print(name +\", you are underwight.\")\n",
    "    elif (BMI<=24.9):\n",
    "        print(name +\", you are normal weight.\")\n",
    "    elif (BMI<29.9):\n",
    "        print(name +\", you are overweight.\")\n",
    "    else:\n",
    "        print(name +\", you are obese.\")\n",
    "else:\n",
    "    print(\"Enter valid input\")"
   ]
  }
 ],
 "metadata": {
  "kernelspec": {
   "display_name": "Python 3",
   "language": "python",
   "name": "python3"
  },
  "language_info": {
   "codemirror_mode": {
    "name": "ipython",
    "version": 3
   },
   "file_extension": ".py",
   "mimetype": "text/x-python",
   "name": "python",
   "nbconvert_exporter": "python",
   "pygments_lexer": "ipython3",
   "version": "3.11.3"
  }
 },
 "nbformat": 4,
 "nbformat_minor": 5
}
